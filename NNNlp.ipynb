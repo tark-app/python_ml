{
  "nbformat": 4,
  "nbformat_minor": 0,
  "metadata": {
    "colab": {
      "name": "NNNlp.ipynb",
      "provenance": [],
      "collapsed_sections": []
    },
    "kernelspec": {
      "name": "python3",
      "display_name": "Python 3"
    },
    "language_info": {
      "name": "python"
    }
  },
  "cells": [
    {
      "cell_type": "code",
      "metadata": {
        "id": "wnZ2n89o887Y"
      },
      "source": [
        "# цитата на хабре: https://tldrify.com/130t\n",
        "# dataset http://study.mokoron.com/\n",
        "# Рубцова Ю. Автоматическое построение и анализ корпуса коротких текстов (постов микроблогов)\n",
        "# для задачи разработки и тренировки тонового классификатора \n",
        "# //Инженерия знаний и технологии семантического веба. – 2012. – Т. 1. – С. 109-116.\n",
        "\n",
        "# База данных состоит из 12 столбцов:\n",
        "\n",
        "# – id: уникальный номер сообщения в системе twitter;\n",
        "# – tdate: дата публикации сообщения (твита);\n",
        "# – tmane: имя пользователя, опубликовавшего сообщение;\n",
        "# – ttext:  текст сообщения (твита);\n",
        "# – ttype: поле в котором в дальнейшем будет указано к кому классу относится твит (положительный, отрицательный, нейтральный);\n",
        "# – trep: количество реплаев к данному сообщению. В настоящий момент API твиттера не отдает эту информацию;\n",
        "# – tfav: число сколько раз данное сообщение было добавлено в избранное другими пользователями;\n",
        "# – tstcount: число всех сообщений пользователя в сети twitter;\n",
        "# – tfol: количество фоловеров пользователя (тех людей, которые читают пользователя);\n",
        "# – tfrien: количество друзей пользователя (те люди, которых читает пользователь);\n",
        "# – listcount: количество листов-подписок в которые добавлен твиттер-пользователь."
      ],
      "execution_count": null,
      "outputs": []
    },
    {
      "cell_type": "code",
      "metadata": {
        "colab": {
          "resources": {
            "http://localhost:8080/nbextensions/google.colab/files.js": {
              "data": "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",
              "ok": true,
              "headers": [
                [
                  "content-type",
                  "application/javascript"
                ]
              ],
              "status": 200,
              "status_text": ""
            }
          },
          "base_uri": "https://localhost:8080/",
          "height": 140
        },
        "id": "H6hyI41bJH2p",
        "outputId": "bdbb5e15-3fa7-4f41-9dfe-751b08b0bb74"
      },
      "source": [
        "# загружаем файлы\n",
        "from google.colab import files\n",
        "\n",
        "uploaded = files.upload()\n",
        "\n",
        "for fn in uploaded.keys():\n",
        "  print('User uploaded file \"{name}\" with length {length} bytes'.format(\n",
        "      name=fn, length=len(uploaded[fn])))"
      ],
      "execution_count": null,
      "outputs": [
        {
          "output_type": "display_data",
          "data": {
            "text/html": [
              "\n",
              "     <input type=\"file\" id=\"files-eaa3eac1-9ca0-43c2-ab6f-c7101e601830\" name=\"files[]\" multiple disabled\n",
              "        style=\"border:none\" />\n",
              "     <output id=\"result-eaa3eac1-9ca0-43c2-ab6f-c7101e601830\">\n",
              "      Upload widget is only available when the cell has been executed in the\n",
              "      current browser session. Please rerun this cell to enable.\n",
              "      </output>\n",
              "      <script src=\"/nbextensions/google.colab/files.js\"></script> "
            ],
            "text/plain": [
              "<IPython.core.display.HTML object>"
            ]
          },
          "metadata": {
            "tags": []
          }
        },
        {
          "output_type": "stream",
          "text": [
            "Saving negative.csv to negative.csv\n",
            "Saving positive.csv to positive.csv\n",
            "User uploaded file \"negative.csv\" with length 24450101 bytes\n",
            "User uploaded file \"positive.csv\" with length 26233379 bytes\n"
          ],
          "name": "stdout"
        }
      ]
    },
    {
      "cell_type": "code",
      "metadata": {
        "colab": {
          "base_uri": "https://localhost:8080/"
        },
        "id": "Yprwepf-rVMw",
        "outputId": "b4f73302-b270-471c-e1d7-3b51c663c9c3"
      },
      "source": [
        "!pip install pymystem3==0.1.10"
      ],
      "execution_count": null,
      "outputs": [
        {
          "output_type": "stream",
          "text": [
            "Collecting pymystem3==0.1.10\n",
            "  Downloading https://files.pythonhosted.org/packages/51/56/57e550b53587719e92330a79c7c0f555402d953b00700efae6d5ca53cdef/pymystem3-0.1.10-py3-none-any.whl\n",
            "Requirement already satisfied: requests in /usr/local/lib/python3.7/dist-packages (from pymystem3==0.1.10) (2.23.0)\n",
            "Requirement already satisfied: certifi>=2017.4.17 in /usr/local/lib/python3.7/dist-packages (from requests->pymystem3==0.1.10) (2020.12.5)\n",
            "Requirement already satisfied: chardet<4,>=3.0.2 in /usr/local/lib/python3.7/dist-packages (from requests->pymystem3==0.1.10) (3.0.4)\n",
            "Requirement already satisfied: urllib3!=1.25.0,!=1.25.1,<1.26,>=1.21.1 in /usr/local/lib/python3.7/dist-packages (from requests->pymystem3==0.1.10) (1.24.3)\n",
            "Requirement already satisfied: idna<3,>=2.5 in /usr/local/lib/python3.7/dist-packages (from requests->pymystem3==0.1.10) (2.10)\n",
            "Installing collected packages: pymystem3\n",
            "  Found existing installation: pymystem3 0.2.0\n",
            "    Uninstalling pymystem3-0.2.0:\n",
            "      Successfully uninstalled pymystem3-0.2.0\n",
            "Successfully installed pymystem3-0.1.10\n"
          ],
          "name": "stdout"
        }
      ]
    },
    {
      "cell_type": "code",
      "metadata": {
        "id": "IPGmknF7RVnh"
      },
      "source": [
        "# импортируем библиотеки\n",
        "import pandas as pd\n",
        "import numpy as np\n",
        "from pymystem3 import Mystem\n",
        "from string import punctuation\n",
        "from sklearn.feature_extraction.text import CountVectorizer\n",
        "from sklearn.model_selection import train_test_split\n",
        "from sklearn.preprocessing import normalize\n",
        "from sklearn.metrics import classification_report\n",
        "from keras.models import Sequential\n",
        "from keras.layers import Dense, Dropout\n",
        "from keras.optimizers import Adam\n",
        "from keras import backend as K\n",
        "from keras.callbacks import ModelCheckpoint\n",
        "from IPython.display import display\n",
        "%matplotlib inline\n",
        "import matplotlib.pyplot as plt\n"
      ],
      "execution_count": 1,
      "outputs": []
    },
    {
      "cell_type": "code",
      "metadata": {
        "id": "NY7_4DtoTWF7"
      },
      "source": [
        "# читаем сsv в  dataframe\n",
        "pos=pd.read_csv('positive.csv', sep=';',header=None)\n",
        "neg=pd.read_csv('negative.csv', sep=';',header=None)"
      ],
      "execution_count": 2,
      "outputs": []
    },
    {
      "cell_type": "code",
      "metadata": {
        "id": "tC29jaCGWihc",
        "colab": {
          "base_uri": "https://localhost:8080/",
          "height": 195
        },
        "outputId": "1ed9c4cb-8ee9-4e5b-d636-1178956aa682"
      },
      "source": [
        "pos.head()"
      ],
      "execution_count": 3,
      "outputs": [
        {
          "output_type": "execute_result",
          "data": {
            "text/html": [
              "<div>\n",
              "<style scoped>\n",
              "    .dataframe tbody tr th:only-of-type {\n",
              "        vertical-align: middle;\n",
              "    }\n",
              "\n",
              "    .dataframe tbody tr th {\n",
              "        vertical-align: top;\n",
              "    }\n",
              "\n",
              "    .dataframe thead th {\n",
              "        text-align: right;\n",
              "    }\n",
              "</style>\n",
              "<table border=\"1\" class=\"dataframe\">\n",
              "  <thead>\n",
              "    <tr style=\"text-align: right;\">\n",
              "      <th></th>\n",
              "      <th>0</th>\n",
              "      <th>1</th>\n",
              "      <th>2</th>\n",
              "      <th>3</th>\n",
              "      <th>4</th>\n",
              "      <th>5</th>\n",
              "      <th>6</th>\n",
              "      <th>7</th>\n",
              "      <th>8</th>\n",
              "      <th>9</th>\n",
              "      <th>10</th>\n",
              "      <th>11</th>\n",
              "    </tr>\n",
              "  </thead>\n",
              "  <tbody>\n",
              "    <tr>\n",
              "      <th>0</th>\n",
              "      <td>408906692374446080</td>\n",
              "      <td>1386325927</td>\n",
              "      <td>pleease_shut_up</td>\n",
              "      <td>@first_timee хоть я и школота, но поверь, у на...</td>\n",
              "      <td>1</td>\n",
              "      <td>0</td>\n",
              "      <td>0</td>\n",
              "      <td>0</td>\n",
              "      <td>7569</td>\n",
              "      <td>62</td>\n",
              "      <td>61</td>\n",
              "      <td>0</td>\n",
              "    </tr>\n",
              "    <tr>\n",
              "      <th>1</th>\n",
              "      <td>408906692693221377</td>\n",
              "      <td>1386325927</td>\n",
              "      <td>alinakirpicheva</td>\n",
              "      <td>Да, все-таки он немного похож на него. Но мой ...</td>\n",
              "      <td>1</td>\n",
              "      <td>0</td>\n",
              "      <td>0</td>\n",
              "      <td>0</td>\n",
              "      <td>11825</td>\n",
              "      <td>59</td>\n",
              "      <td>31</td>\n",
              "      <td>2</td>\n",
              "    </tr>\n",
              "    <tr>\n",
              "      <th>2</th>\n",
              "      <td>408906695083954177</td>\n",
              "      <td>1386325927</td>\n",
              "      <td>EvgeshaRe</td>\n",
              "      <td>RT @KatiaCheh: Ну ты идиотка) я испугалась за ...</td>\n",
              "      <td>1</td>\n",
              "      <td>0</td>\n",
              "      <td>1</td>\n",
              "      <td>0</td>\n",
              "      <td>1273</td>\n",
              "      <td>26</td>\n",
              "      <td>27</td>\n",
              "      <td>0</td>\n",
              "    </tr>\n",
              "    <tr>\n",
              "      <th>3</th>\n",
              "      <td>408906695356973056</td>\n",
              "      <td>1386325927</td>\n",
              "      <td>ikonnikova_21</td>\n",
              "      <td>RT @digger2912: \"Кто то в углу сидит и погибае...</td>\n",
              "      <td>1</td>\n",
              "      <td>0</td>\n",
              "      <td>1</td>\n",
              "      <td>0</td>\n",
              "      <td>1549</td>\n",
              "      <td>19</td>\n",
              "      <td>17</td>\n",
              "      <td>0</td>\n",
              "    </tr>\n",
              "    <tr>\n",
              "      <th>4</th>\n",
              "      <td>408906761416867842</td>\n",
              "      <td>1386325943</td>\n",
              "      <td>JumpyAlex</td>\n",
              "      <td>@irina_dyshkant Вот что значит страшилка :D\\nН...</td>\n",
              "      <td>1</td>\n",
              "      <td>0</td>\n",
              "      <td>0</td>\n",
              "      <td>0</td>\n",
              "      <td>597</td>\n",
              "      <td>16</td>\n",
              "      <td>23</td>\n",
              "      <td>1</td>\n",
              "    </tr>\n",
              "  </tbody>\n",
              "</table>\n",
              "</div>"
            ],
            "text/plain": [
              "                   0           1                2   ...  9   10  11\n",
              "0  408906692374446080  1386325927  pleease_shut_up  ...  62  61   0\n",
              "1  408906692693221377  1386325927  alinakirpicheva  ...  59  31   2\n",
              "2  408906695083954177  1386325927        EvgeshaRe  ...  26  27   0\n",
              "3  408906695356973056  1386325927    ikonnikova_21  ...  19  17   0\n",
              "4  408906761416867842  1386325943        JumpyAlex  ...  16  23   1\n",
              "\n",
              "[5 rows x 12 columns]"
            ]
          },
          "metadata": {
            "tags": []
          },
          "execution_count": 3
        }
      ]
    },
    {
      "cell_type": "code",
      "metadata": {
        "id": "s_9DzH0ZYdJf",
        "colab": {
          "base_uri": "https://localhost:8080/",
          "height": 195
        },
        "outputId": "51ff2818-4c2e-45f7-ac61-f436ae874870"
      },
      "source": [
        "neg.head()"
      ],
      "execution_count": 4,
      "outputs": [
        {
          "output_type": "execute_result",
          "data": {
            "text/html": [
              "<div>\n",
              "<style scoped>\n",
              "    .dataframe tbody tr th:only-of-type {\n",
              "        vertical-align: middle;\n",
              "    }\n",
              "\n",
              "    .dataframe tbody tr th {\n",
              "        vertical-align: top;\n",
              "    }\n",
              "\n",
              "    .dataframe thead th {\n",
              "        text-align: right;\n",
              "    }\n",
              "</style>\n",
              "<table border=\"1\" class=\"dataframe\">\n",
              "  <thead>\n",
              "    <tr style=\"text-align: right;\">\n",
              "      <th></th>\n",
              "      <th>0</th>\n",
              "      <th>1</th>\n",
              "      <th>2</th>\n",
              "      <th>3</th>\n",
              "      <th>4</th>\n",
              "      <th>5</th>\n",
              "      <th>6</th>\n",
              "      <th>7</th>\n",
              "      <th>8</th>\n",
              "      <th>9</th>\n",
              "      <th>10</th>\n",
              "      <th>11</th>\n",
              "    </tr>\n",
              "  </thead>\n",
              "  <tbody>\n",
              "    <tr>\n",
              "      <th>0</th>\n",
              "      <td>408906762813579264</td>\n",
              "      <td>1386325944</td>\n",
              "      <td>dugarchikbellko</td>\n",
              "      <td>на работе был полный пиддес :| и так каждое за...</td>\n",
              "      <td>-1</td>\n",
              "      <td>0</td>\n",
              "      <td>0</td>\n",
              "      <td>0</td>\n",
              "      <td>8064</td>\n",
              "      <td>111</td>\n",
              "      <td>94</td>\n",
              "      <td>2</td>\n",
              "    </tr>\n",
              "    <tr>\n",
              "      <th>1</th>\n",
              "      <td>408906818262687744</td>\n",
              "      <td>1386325957</td>\n",
              "      <td>nugemycejela</td>\n",
              "      <td>Коллеги сидят рубятся в Urban terror, а я из-з...</td>\n",
              "      <td>-1</td>\n",
              "      <td>0</td>\n",
              "      <td>0</td>\n",
              "      <td>0</td>\n",
              "      <td>26</td>\n",
              "      <td>42</td>\n",
              "      <td>39</td>\n",
              "      <td>0</td>\n",
              "    </tr>\n",
              "    <tr>\n",
              "      <th>2</th>\n",
              "      <td>408906858515398656</td>\n",
              "      <td>1386325966</td>\n",
              "      <td>4post21</td>\n",
              "      <td>@elina_4post как говорят обещаного три года жд...</td>\n",
              "      <td>-1</td>\n",
              "      <td>0</td>\n",
              "      <td>0</td>\n",
              "      <td>0</td>\n",
              "      <td>718</td>\n",
              "      <td>49</td>\n",
              "      <td>249</td>\n",
              "      <td>0</td>\n",
              "    </tr>\n",
              "    <tr>\n",
              "      <th>3</th>\n",
              "      <td>408906914437685248</td>\n",
              "      <td>1386325980</td>\n",
              "      <td>Poliwake</td>\n",
              "      <td>Желаю хорошего полёта и удачной посадки,я буду...</td>\n",
              "      <td>-1</td>\n",
              "      <td>0</td>\n",
              "      <td>0</td>\n",
              "      <td>0</td>\n",
              "      <td>10628</td>\n",
              "      <td>207</td>\n",
              "      <td>200</td>\n",
              "      <td>0</td>\n",
              "    </tr>\n",
              "    <tr>\n",
              "      <th>4</th>\n",
              "      <td>408906914723295232</td>\n",
              "      <td>1386325980</td>\n",
              "      <td>capyvixowe</td>\n",
              "      <td>Обновил за каким-то лешим surf, теперь не рабо...</td>\n",
              "      <td>-1</td>\n",
              "      <td>0</td>\n",
              "      <td>0</td>\n",
              "      <td>0</td>\n",
              "      <td>35</td>\n",
              "      <td>17</td>\n",
              "      <td>34</td>\n",
              "      <td>0</td>\n",
              "    </tr>\n",
              "  </tbody>\n",
              "</table>\n",
              "</div>"
            ],
            "text/plain": [
              "                   0           1                2   ...   9    10  11\n",
              "0  408906762813579264  1386325944  dugarchikbellko  ...  111   94   2\n",
              "1  408906818262687744  1386325957     nugemycejela  ...   42   39   0\n",
              "2  408906858515398656  1386325966          4post21  ...   49  249   0\n",
              "3  408906914437685248  1386325980         Poliwake  ...  207  200   0\n",
              "4  408906914723295232  1386325980       capyvixowe  ...   17   34   0\n",
              "\n",
              "[5 rows x 12 columns]"
            ]
          },
          "metadata": {
            "tags": []
          },
          "execution_count": 4
        }
      ]
    },
    {
      "cell_type": "code",
      "metadata": {
        "id": "nEA5e1OEY0dB",
        "colab": {
          "base_uri": "https://localhost:8080/",
          "height": 374
        },
        "outputId": "4f3c1f00-3c6c-4708-de34-b9cb09cbcb55"
      },
      "source": [
        "pos_comm=pos.copy(deep=True).iloc[:,3:5].rename(columns={3: 'text', 4: 'class'})\n",
        "neg_comm=neg.copy(deep=True).iloc[:,3:5].rename(columns={3: 'text', 4: 'class'})\n",
        "neg_comm.loc[neg_comm['class'] == -1, 'class'] = 0\n",
        "display(pos_comm.head())\n",
        "display(neg_comm.head())"
      ],
      "execution_count": 5,
      "outputs": [
        {
          "output_type": "display_data",
          "data": {
            "text/html": [
              "<div>\n",
              "<style scoped>\n",
              "    .dataframe tbody tr th:only-of-type {\n",
              "        vertical-align: middle;\n",
              "    }\n",
              "\n",
              "    .dataframe tbody tr th {\n",
              "        vertical-align: top;\n",
              "    }\n",
              "\n",
              "    .dataframe thead th {\n",
              "        text-align: right;\n",
              "    }\n",
              "</style>\n",
              "<table border=\"1\" class=\"dataframe\">\n",
              "  <thead>\n",
              "    <tr style=\"text-align: right;\">\n",
              "      <th></th>\n",
              "      <th>text</th>\n",
              "      <th>class</th>\n",
              "    </tr>\n",
              "  </thead>\n",
              "  <tbody>\n",
              "    <tr>\n",
              "      <th>0</th>\n",
              "      <td>@first_timee хоть я и школота, но поверь, у на...</td>\n",
              "      <td>1</td>\n",
              "    </tr>\n",
              "    <tr>\n",
              "      <th>1</th>\n",
              "      <td>Да, все-таки он немного похож на него. Но мой ...</td>\n",
              "      <td>1</td>\n",
              "    </tr>\n",
              "    <tr>\n",
              "      <th>2</th>\n",
              "      <td>RT @KatiaCheh: Ну ты идиотка) я испугалась за ...</td>\n",
              "      <td>1</td>\n",
              "    </tr>\n",
              "    <tr>\n",
              "      <th>3</th>\n",
              "      <td>RT @digger2912: \"Кто то в углу сидит и погибае...</td>\n",
              "      <td>1</td>\n",
              "    </tr>\n",
              "    <tr>\n",
              "      <th>4</th>\n",
              "      <td>@irina_dyshkant Вот что значит страшилка :D\\nН...</td>\n",
              "      <td>1</td>\n",
              "    </tr>\n",
              "  </tbody>\n",
              "</table>\n",
              "</div>"
            ],
            "text/plain": [
              "                                                text  class\n",
              "0  @first_timee хоть я и школота, но поверь, у на...      1\n",
              "1  Да, все-таки он немного похож на него. Но мой ...      1\n",
              "2  RT @KatiaCheh: Ну ты идиотка) я испугалась за ...      1\n",
              "3  RT @digger2912: \"Кто то в углу сидит и погибае...      1\n",
              "4  @irina_dyshkant Вот что значит страшилка :D\\nН...      1"
            ]
          },
          "metadata": {
            "tags": []
          }
        },
        {
          "output_type": "display_data",
          "data": {
            "text/html": [
              "<div>\n",
              "<style scoped>\n",
              "    .dataframe tbody tr th:only-of-type {\n",
              "        vertical-align: middle;\n",
              "    }\n",
              "\n",
              "    .dataframe tbody tr th {\n",
              "        vertical-align: top;\n",
              "    }\n",
              "\n",
              "    .dataframe thead th {\n",
              "        text-align: right;\n",
              "    }\n",
              "</style>\n",
              "<table border=\"1\" class=\"dataframe\">\n",
              "  <thead>\n",
              "    <tr style=\"text-align: right;\">\n",
              "      <th></th>\n",
              "      <th>text</th>\n",
              "      <th>class</th>\n",
              "    </tr>\n",
              "  </thead>\n",
              "  <tbody>\n",
              "    <tr>\n",
              "      <th>0</th>\n",
              "      <td>на работе был полный пиддес :| и так каждое за...</td>\n",
              "      <td>0</td>\n",
              "    </tr>\n",
              "    <tr>\n",
              "      <th>1</th>\n",
              "      <td>Коллеги сидят рубятся в Urban terror, а я из-з...</td>\n",
              "      <td>0</td>\n",
              "    </tr>\n",
              "    <tr>\n",
              "      <th>2</th>\n",
              "      <td>@elina_4post как говорят обещаного три года жд...</td>\n",
              "      <td>0</td>\n",
              "    </tr>\n",
              "    <tr>\n",
              "      <th>3</th>\n",
              "      <td>Желаю хорошего полёта и удачной посадки,я буду...</td>\n",
              "      <td>0</td>\n",
              "    </tr>\n",
              "    <tr>\n",
              "      <th>4</th>\n",
              "      <td>Обновил за каким-то лешим surf, теперь не рабо...</td>\n",
              "      <td>0</td>\n",
              "    </tr>\n",
              "  </tbody>\n",
              "</table>\n",
              "</div>"
            ],
            "text/plain": [
              "                                                text  class\n",
              "0  на работе был полный пиддес :| и так каждое за...      0\n",
              "1  Коллеги сидят рубятся в Urban terror, а я из-з...      0\n",
              "2  @elina_4post как говорят обещаного три года жд...      0\n",
              "3  Желаю хорошего полёта и удачной посадки,я буду...      0\n",
              "4  Обновил за каким-то лешим surf, теперь не рабо...      0"
            ]
          },
          "metadata": {
            "tags": []
          }
        }
      ]
    },
    {
      "cell_type": "code",
      "metadata": {
        "id": "563KaC4YZ1Er",
        "colab": {
          "base_uri": "https://localhost:8080/",
          "height": 284
        },
        "outputId": "56f16619-9ec5-4929-e2f5-00cbdddff2e3"
      },
      "source": [
        "pos_comm.describe()"
      ],
      "execution_count": 6,
      "outputs": [
        {
          "output_type": "execute_result",
          "data": {
            "text/html": [
              "<div>\n",
              "<style scoped>\n",
              "    .dataframe tbody tr th:only-of-type {\n",
              "        vertical-align: middle;\n",
              "    }\n",
              "\n",
              "    .dataframe tbody tr th {\n",
              "        vertical-align: top;\n",
              "    }\n",
              "\n",
              "    .dataframe thead th {\n",
              "        text-align: right;\n",
              "    }\n",
              "</style>\n",
              "<table border=\"1\" class=\"dataframe\">\n",
              "  <thead>\n",
              "    <tr style=\"text-align: right;\">\n",
              "      <th></th>\n",
              "      <th>class</th>\n",
              "    </tr>\n",
              "  </thead>\n",
              "  <tbody>\n",
              "    <tr>\n",
              "      <th>count</th>\n",
              "      <td>114911.0</td>\n",
              "    </tr>\n",
              "    <tr>\n",
              "      <th>mean</th>\n",
              "      <td>1.0</td>\n",
              "    </tr>\n",
              "    <tr>\n",
              "      <th>std</th>\n",
              "      <td>0.0</td>\n",
              "    </tr>\n",
              "    <tr>\n",
              "      <th>min</th>\n",
              "      <td>1.0</td>\n",
              "    </tr>\n",
              "    <tr>\n",
              "      <th>25%</th>\n",
              "      <td>1.0</td>\n",
              "    </tr>\n",
              "    <tr>\n",
              "      <th>50%</th>\n",
              "      <td>1.0</td>\n",
              "    </tr>\n",
              "    <tr>\n",
              "      <th>75%</th>\n",
              "      <td>1.0</td>\n",
              "    </tr>\n",
              "    <tr>\n",
              "      <th>max</th>\n",
              "      <td>1.0</td>\n",
              "    </tr>\n",
              "  </tbody>\n",
              "</table>\n",
              "</div>"
            ],
            "text/plain": [
              "          class\n",
              "count  114911.0\n",
              "mean        1.0\n",
              "std         0.0\n",
              "min         1.0\n",
              "25%         1.0\n",
              "50%         1.0\n",
              "75%         1.0\n",
              "max         1.0"
            ]
          },
          "metadata": {
            "tags": []
          },
          "execution_count": 6
        }
      ]
    },
    {
      "cell_type": "code",
      "metadata": {
        "id": "rvYd0jgQmaH0",
        "colab": {
          "base_uri": "https://localhost:8080/",
          "height": 284
        },
        "outputId": "781bce6a-bd18-47ce-9dbf-bbaeefcaa82b"
      },
      "source": [
        "neg_comm.describe()"
      ],
      "execution_count": 7,
      "outputs": [
        {
          "output_type": "execute_result",
          "data": {
            "text/html": [
              "<div>\n",
              "<style scoped>\n",
              "    .dataframe tbody tr th:only-of-type {\n",
              "        vertical-align: middle;\n",
              "    }\n",
              "\n",
              "    .dataframe tbody tr th {\n",
              "        vertical-align: top;\n",
              "    }\n",
              "\n",
              "    .dataframe thead th {\n",
              "        text-align: right;\n",
              "    }\n",
              "</style>\n",
              "<table border=\"1\" class=\"dataframe\">\n",
              "  <thead>\n",
              "    <tr style=\"text-align: right;\">\n",
              "      <th></th>\n",
              "      <th>class</th>\n",
              "    </tr>\n",
              "  </thead>\n",
              "  <tbody>\n",
              "    <tr>\n",
              "      <th>count</th>\n",
              "      <td>111923.0</td>\n",
              "    </tr>\n",
              "    <tr>\n",
              "      <th>mean</th>\n",
              "      <td>0.0</td>\n",
              "    </tr>\n",
              "    <tr>\n",
              "      <th>std</th>\n",
              "      <td>0.0</td>\n",
              "    </tr>\n",
              "    <tr>\n",
              "      <th>min</th>\n",
              "      <td>0.0</td>\n",
              "    </tr>\n",
              "    <tr>\n",
              "      <th>25%</th>\n",
              "      <td>0.0</td>\n",
              "    </tr>\n",
              "    <tr>\n",
              "      <th>50%</th>\n",
              "      <td>0.0</td>\n",
              "    </tr>\n",
              "    <tr>\n",
              "      <th>75%</th>\n",
              "      <td>0.0</td>\n",
              "    </tr>\n",
              "    <tr>\n",
              "      <th>max</th>\n",
              "      <td>0.0</td>\n",
              "    </tr>\n",
              "  </tbody>\n",
              "</table>\n",
              "</div>"
            ],
            "text/plain": [
              "          class\n",
              "count  111923.0\n",
              "mean        0.0\n",
              "std         0.0\n",
              "min         0.0\n",
              "25%         0.0\n",
              "50%         0.0\n",
              "75%         0.0\n",
              "max         0.0"
            ]
          },
          "metadata": {
            "tags": []
          },
          "execution_count": 7
        }
      ]
    },
    {
      "cell_type": "code",
      "metadata": {
        "id": "_gSw0RT7ngd6"
      },
      "source": [
        "comment = pd.concat([pos_comm.iloc[:len(neg_comm),:], neg_comm],ignore_index=True)"
      ],
      "execution_count": 8,
      "outputs": []
    },
    {
      "cell_type": "code",
      "metadata": {
        "id": "9ws54dq9pH3Z",
        "colab": {
          "base_uri": "https://localhost:8080/"
        },
        "outputId": "17833777-cd1b-44c4-8261-d78024fc2751"
      },
      "source": [
        "comment['class'].value_counts()"
      ],
      "execution_count": 9,
      "outputs": [
        {
          "output_type": "execute_result",
          "data": {
            "text/plain": [
              "1    111923\n",
              "0    111923\n",
              "Name: class, dtype: int64"
            ]
          },
          "metadata": {
            "tags": []
          },
          "execution_count": 9
        }
      ]
    },
    {
      "cell_type": "code",
      "metadata": {
        "colab": {
          "base_uri": "https://localhost:8080/",
          "height": 402
        },
        "id": "aSghW_yysEQL",
        "outputId": "e9a3b979-6ce9-4830-8df4-66ddf6f2924b"
      },
      "source": [
        "comment"
      ],
      "execution_count": 10,
      "outputs": [
        {
          "output_type": "execute_result",
          "data": {
            "text/html": [
              "<div>\n",
              "<style scoped>\n",
              "    .dataframe tbody tr th:only-of-type {\n",
              "        vertical-align: middle;\n",
              "    }\n",
              "\n",
              "    .dataframe tbody tr th {\n",
              "        vertical-align: top;\n",
              "    }\n",
              "\n",
              "    .dataframe thead th {\n",
              "        text-align: right;\n",
              "    }\n",
              "</style>\n",
              "<table border=\"1\" class=\"dataframe\">\n",
              "  <thead>\n",
              "    <tr style=\"text-align: right;\">\n",
              "      <th></th>\n",
              "      <th>text</th>\n",
              "      <th>class</th>\n",
              "    </tr>\n",
              "  </thead>\n",
              "  <tbody>\n",
              "    <tr>\n",
              "      <th>0</th>\n",
              "      <td>@first_timee хоть я и школота, но поверь, у на...</td>\n",
              "      <td>1</td>\n",
              "    </tr>\n",
              "    <tr>\n",
              "      <th>1</th>\n",
              "      <td>Да, все-таки он немного похож на него. Но мой ...</td>\n",
              "      <td>1</td>\n",
              "    </tr>\n",
              "    <tr>\n",
              "      <th>2</th>\n",
              "      <td>RT @KatiaCheh: Ну ты идиотка) я испугалась за ...</td>\n",
              "      <td>1</td>\n",
              "    </tr>\n",
              "    <tr>\n",
              "      <th>3</th>\n",
              "      <td>RT @digger2912: \"Кто то в углу сидит и погибае...</td>\n",
              "      <td>1</td>\n",
              "    </tr>\n",
              "    <tr>\n",
              "      <th>4</th>\n",
              "      <td>@irina_dyshkant Вот что значит страшилка :D\\nН...</td>\n",
              "      <td>1</td>\n",
              "    </tr>\n",
              "    <tr>\n",
              "      <th>...</th>\n",
              "      <td>...</td>\n",
              "      <td>...</td>\n",
              "    </tr>\n",
              "    <tr>\n",
              "      <th>223841</th>\n",
              "      <td>Но не каждый хочет что то исправлять:( http://...</td>\n",
              "      <td>0</td>\n",
              "    </tr>\n",
              "    <tr>\n",
              "      <th>223842</th>\n",
              "      <td>скучаю так :-( только @taaannyaaa вправляет мо...</td>\n",
              "      <td>0</td>\n",
              "    </tr>\n",
              "    <tr>\n",
              "      <th>223843</th>\n",
              "      <td>Вот и в школу, в говно это идти уже надо(</td>\n",
              "      <td>0</td>\n",
              "    </tr>\n",
              "    <tr>\n",
              "      <th>223844</th>\n",
              "      <td>RT @_Them__: @LisaBeroud Тауриэль, не грусти :...</td>\n",
              "      <td>0</td>\n",
              "    </tr>\n",
              "    <tr>\n",
              "      <th>223845</th>\n",
              "      <td>Такси везет меня на работу. Раздумываю приплат...</td>\n",
              "      <td>0</td>\n",
              "    </tr>\n",
              "  </tbody>\n",
              "</table>\n",
              "<p>223846 rows × 2 columns</p>\n",
              "</div>"
            ],
            "text/plain": [
              "                                                     text  class\n",
              "0       @first_timee хоть я и школота, но поверь, у на...      1\n",
              "1       Да, все-таки он немного похож на него. Но мой ...      1\n",
              "2       RT @KatiaCheh: Ну ты идиотка) я испугалась за ...      1\n",
              "3       RT @digger2912: \"Кто то в углу сидит и погибае...      1\n",
              "4       @irina_dyshkant Вот что значит страшилка :D\\nН...      1\n",
              "...                                                   ...    ...\n",
              "223841  Но не каждый хочет что то исправлять:( http://...      0\n",
              "223842  скучаю так :-( только @taaannyaaa вправляет мо...      0\n",
              "223843          Вот и в школу, в говно это идти уже надо(      0\n",
              "223844  RT @_Them__: @LisaBeroud Тауриэль, не грусти :...      0\n",
              "223845  Такси везет меня на работу. Раздумываю приплат...      0\n",
              "\n",
              "[223846 rows x 2 columns]"
            ]
          },
          "metadata": {
            "tags": []
          },
          "execution_count": 10
        }
      ]
    },
    {
      "cell_type": "code",
      "metadata": {
        "id": "5bBd0v7GsGfP"
      },
      "source": [
        "# препроцессинг текста\n",
        "# https://www.kaggle.com/alxmamaev/how-to-easy-preprocess-russian-text\n",
        "# одно \"но\", не убираем стоп-слова, т.к. для анализа тональности они могут иметь эмоциональную окраску. Например: \"не понравился\" и \"понравился\". \n",
        "# Для уменьшения энтропии и сохранения точности также можно выбирать стоп-слова, но в этом примере делать этого не будем.\n",
        "# также данный препроцессинг хорош тем, что он использует лемматизацию, а не стемминг. Суффиксы и словоформы важны, что видно в классическом примере \"любимый\" и \"любимчик\".\n",
        "mystem = Mystem() \n",
        "def preprocess_text(text):\n",
        "    tokens = mystem.lemmatize(text.lower())\n",
        "    tokens = [token for token in tokens if token != \" \" \\\n",
        "              and token.strip() not in punctuation]\n",
        "    \n",
        "    text = \" \".join(tokens)\n",
        "    \n",
        "    return text"
      ],
      "execution_count": 11,
      "outputs": []
    },
    {
      "cell_type": "code",
      "metadata": {
        "colab": {
          "base_uri": "https://localhost:8080/",
          "height": 106
        },
        "id": "gNpeJLYhegv4",
        "outputId": "ff7d34c4-8508-4f16-b71e-a2dbebb7abbc"
      },
      "source": [
        "# проверяем\n",
        "display(comment['text'][0])\n",
        "display(preprocess_text(comment['text'][0]))\n",
        "print('---------------------')\n",
        "display(comment['text'][1])\n",
        "display(preprocess_text(comment['text'][1]))"
      ],
      "execution_count": 12,
      "outputs": [
        {
          "output_type": "display_data",
          "data": {
            "application/vnd.google.colaboratory.intrinsic+json": {
              "type": "string"
            },
            "text/plain": [
              "'@first_timee хоть я и школота, но поверь, у нас то же самое :D общество профилирующий предмет типа)'"
            ]
          },
          "metadata": {
            "tags": []
          }
        },
        {
          "output_type": "display_data",
          "data": {
            "application/vnd.google.colaboratory.intrinsic+json": {
              "type": "string"
            },
            "text/plain": [
              "'first timee хоть я и школоть но поверять у мы то же самый d общество профилирующий предмет тип'"
            ]
          },
          "metadata": {
            "tags": []
          }
        },
        {
          "output_type": "stream",
          "text": [
            "---------------------\n"
          ],
          "name": "stdout"
        },
        {
          "output_type": "display_data",
          "data": {
            "application/vnd.google.colaboratory.intrinsic+json": {
              "type": "string"
            },
            "text/plain": [
              "'Да, все-таки он немного похож на него. Но мой мальчик все равно лучше:D'"
            ]
          },
          "metadata": {
            "tags": []
          }
        },
        {
          "output_type": "display_data",
          "data": {
            "application/vnd.google.colaboratory.intrinsic+json": {
              "type": "string"
            },
            "text/plain": [
              "'да все-таки он немного похожий на он но мой мальчик весь равный хороший d'"
            ]
          },
          "metadata": {
            "tags": []
          }
        }
      ]
    },
    {
      "cell_type": "code",
      "metadata": {
        "id": "N0vxR1FVehx0"
      },
      "source": [
        "#прогоняем все твиты\n",
        "comment['text_preprocessing']=comment['text'].apply(preprocess_text)"
      ],
      "execution_count": 13,
      "outputs": []
    },
    {
      "cell_type": "code",
      "metadata": {
        "id": "r10hUlxrpVF4",
        "colab": {
          "base_uri": "https://localhost:8080/",
          "height": 402
        },
        "outputId": "6c55741f-619b-4e93-904f-330d1c0cc11a"
      },
      "source": [
        "comment"
      ],
      "execution_count": 14,
      "outputs": [
        {
          "output_type": "execute_result",
          "data": {
            "text/html": [
              "<div>\n",
              "<style scoped>\n",
              "    .dataframe tbody tr th:only-of-type {\n",
              "        vertical-align: middle;\n",
              "    }\n",
              "\n",
              "    .dataframe tbody tr th {\n",
              "        vertical-align: top;\n",
              "    }\n",
              "\n",
              "    .dataframe thead th {\n",
              "        text-align: right;\n",
              "    }\n",
              "</style>\n",
              "<table border=\"1\" class=\"dataframe\">\n",
              "  <thead>\n",
              "    <tr style=\"text-align: right;\">\n",
              "      <th></th>\n",
              "      <th>text</th>\n",
              "      <th>class</th>\n",
              "      <th>text_preprocessing</th>\n",
              "    </tr>\n",
              "  </thead>\n",
              "  <tbody>\n",
              "    <tr>\n",
              "      <th>0</th>\n",
              "      <td>@first_timee хоть я и школота, но поверь, у на...</td>\n",
              "      <td>1</td>\n",
              "      <td>first timee хоть я и школоть но поверять у мы ...</td>\n",
              "    </tr>\n",
              "    <tr>\n",
              "      <th>1</th>\n",
              "      <td>Да, все-таки он немного похож на него. Но мой ...</td>\n",
              "      <td>1</td>\n",
              "      <td>да все-таки он немного похожий на он но мой ма...</td>\n",
              "    </tr>\n",
              "    <tr>\n",
              "      <th>2</th>\n",
              "      <td>RT @KatiaCheh: Ну ты идиотка) я испугалась за ...</td>\n",
              "      <td>1</td>\n",
              "      <td>rt katiacheh ну ты идиотка я испугаться за ты !!!</td>\n",
              "    </tr>\n",
              "    <tr>\n",
              "      <th>3</th>\n",
              "      <td>RT @digger2912: \"Кто то в углу сидит и погибае...</td>\n",
              "      <td>1</td>\n",
              "      <td>rt digger2912 : \" кто то в угол сидеть и погиб...</td>\n",
              "    </tr>\n",
              "    <tr>\n",
              "      <th>4</th>\n",
              "      <td>@irina_dyshkant Вот что значит страшилка :D\\nН...</td>\n",
              "      <td>1</td>\n",
              "      <td>irina dyshkant вот что значить страшилка d но ...</td>\n",
              "    </tr>\n",
              "    <tr>\n",
              "      <th>...</th>\n",
              "      <td>...</td>\n",
              "      <td>...</td>\n",
              "      <td>...</td>\n",
              "    </tr>\n",
              "    <tr>\n",
              "      <th>223841</th>\n",
              "      <td>Но не каждый хочет что то исправлять:( http://...</td>\n",
              "      <td>0</td>\n",
              "      <td>но не каждый хотеть что то исправлять :(  http...</td>\n",
              "    </tr>\n",
              "    <tr>\n",
              "      <th>223842</th>\n",
              "      <td>скучаю так :-( только @taaannyaaa вправляет мо...</td>\n",
              "      <td>0</td>\n",
              "      <td>скучать так  :-(  только taaannyaaa вправлять ...</td>\n",
              "    </tr>\n",
              "    <tr>\n",
              "      <th>223843</th>\n",
              "      <td>Вот и в школу, в говно это идти уже надо(</td>\n",
              "      <td>0</td>\n",
              "      <td>вот и в школа в гавно это идти уже надо</td>\n",
              "    </tr>\n",
              "    <tr>\n",
              "      <th>223844</th>\n",
              "      <td>RT @_Them__: @LisaBeroud Тауриэль, не грусти :...</td>\n",
              "      <td>0</td>\n",
              "      <td>rt them __:  lisaberoud тауриэль не грустить  ...</td>\n",
              "    </tr>\n",
              "    <tr>\n",
              "      <th>223845</th>\n",
              "      <td>Такси везет меня на работу. Раздумываю приплат...</td>\n",
              "      <td>0</td>\n",
              "      <td>такси везти я на работа раздумывать приплачива...</td>\n",
              "    </tr>\n",
              "  </tbody>\n",
              "</table>\n",
              "<p>223846 rows × 3 columns</p>\n",
              "</div>"
            ],
            "text/plain": [
              "                                                     text  ...                                 text_preprocessing\n",
              "0       @first_timee хоть я и школота, но поверь, у на...  ...  first timee хоть я и школоть но поверять у мы ...\n",
              "1       Да, все-таки он немного похож на него. Но мой ...  ...  да все-таки он немного похожий на он но мой ма...\n",
              "2       RT @KatiaCheh: Ну ты идиотка) я испугалась за ...  ...  rt katiacheh ну ты идиотка я испугаться за ты !!!\n",
              "3       RT @digger2912: \"Кто то в углу сидит и погибае...  ...  rt digger2912 : \" кто то в угол сидеть и погиб...\n",
              "4       @irina_dyshkant Вот что значит страшилка :D\\nН...  ...  irina dyshkant вот что значить страшилка d но ...\n",
              "...                                                   ...  ...                                                ...\n",
              "223841  Но не каждый хочет что то исправлять:( http://...  ...  но не каждый хотеть что то исправлять :(  http...\n",
              "223842  скучаю так :-( только @taaannyaaa вправляет мо...  ...  скучать так  :-(  только taaannyaaa вправлять ...\n",
              "223843          Вот и в школу, в говно это идти уже надо(  ...            вот и в школа в гавно это идти уже надо\n",
              "223844  RT @_Them__: @LisaBeroud Тауриэль, не грусти :...  ...  rt them __:  lisaberoud тауриэль не грустить  ...\n",
              "223845  Такси везет меня на работу. Раздумываю приплат...  ...  такси везти я на работа раздумывать приплачива...\n",
              "\n",
              "[223846 rows x 3 columns]"
            ]
          },
          "metadata": {
            "tags": []
          },
          "execution_count": 14
        }
      ]
    },
    {
      "cell_type": "code",
      "metadata": {
        "id": "2D6-XUhyxArm"
      },
      "source": [
        "# векторизуем\n",
        "# не убираем стоп-слова, не применяем tf-idf векторайзер, потому что частота использования слова не влияет на эмоциональную окраску текста\n",
        "# \n",
        "vectorizer=CountVectorizer(ngram_range=(1, 3))\n",
        "X = normalize(vectorizer.fit_transform(comment['text_preprocessing']))\n",
        "y = np.asarray(comment['class']).astype('float32').reshape((-1,1))\n",
        "# разобьем на обучающую и тестовую выборку\n",
        "x_train, x_test, y_train, y_test = train_test_split(X, y, test_size=0.25, random_state=1) #размер тестовой выборки выбран таким для того, чтобы сравнить с результатом на хабре"
      ],
      "execution_count": 42,
      "outputs": []
    },
    {
      "cell_type": "code",
      "metadata": {
        "id": "cteb_0rp0U0d"
      },
      "source": [
        "# метрики - https://coderoad.ru/43547402/%D0%9A%D0%B0%D0%BA-%D0%B2%D1%8B%D1%87%D0%B8%D1%81%D0%BB%D0%B8%D1%82%D1%8C-%D0%BC%D0%B0%D0%BA%D1%80%D0%BE%D1%81-F1-%D0%B2-Keras\n",
        "# чтобы сравнить с результатом на хабре - также добавил метрики из Keras 1, котрые отсутствуют в Keras 2\n",
        "def recall(y_true, y_pred): # полнота (доля найденных классфикатором документов принадлежащих классу относительно всех документов этого класса)\n",
        "    true_positives = K.sum(K.round(K.clip(y_true * y_pred, 0, 1)))\n",
        "    possible_positives = K.sum(K.round(K.clip(y_true, 0, 1)))\n",
        "    recall = true_positives / (possible_positives + K.epsilon())\n",
        "    return recall\n",
        "\n",
        "def precision(y_true, y_pred): # точность ( доля документов действительно принадлежащих данному классу относительно всех документов которые система отнесла к этому классу)\n",
        "    true_positives = K.sum(K.round(K.clip(y_true * y_pred, 0, 1)))\n",
        "    predicted_positives = K.sum(K.round(K.clip(y_pred, 0, 1)))\n",
        "    precision = true_positives / (predicted_positives + K.epsilon())\n",
        "    return precision\n",
        "\n",
        "def f1(y_true, y_pred): # f1-мера (объединяет полноту и точность)\n",
        "    def recall(y_true, y_pred):\n",
        "      true_positives = K.sum(K.round(K.clip(y_true * y_pred, 0, 1)))\n",
        "      possible_positives = K.sum(K.round(K.clip(y_true, 0, 1)))\n",
        "      recall = true_positives / (possible_positives + K.epsilon())\n",
        "      return recall\n",
        "\n",
        "    def precision(y_true, y_pred):\n",
        "      true_positives = K.sum(K.round(K.clip(y_true * y_pred, 0, 1)))\n",
        "      predicted_positives = K.sum(K.round(K.clip(y_pred, 0, 1)))\n",
        "      precision = true_positives / (predicted_positives + K.epsilon())\n",
        "      return precision\n",
        "\n",
        "    precision = precision(y_true, y_pred)\n",
        "    recall = recall(y_true, y_pred)\n",
        "    return 2*((precision*recall)/(precision+recall+K.epsilon()))\n"
      ],
      "execution_count": 16,
      "outputs": []
    },
    {
      "cell_type": "code",
      "metadata": {
        "id": "9cFFd6LV0xQC",
        "colab": {
          "base_uri": "https://localhost:8080/"
        },
        "outputId": "0fb3e434-3b84-4006-810a-09f7852025b2"
      },
      "source": [
        "# строим модель\n",
        "# Керас: https://ru-keras.com/guide-sequential/\n",
        "# Как считать слои: https://www.machinelearningmastery.ru/how-to-configure-the-number-of-layers-and-nodes-in-a-neural-network/\n",
        "# Функции активации: https://neurohive.io/ru/osnovy-data-science/activation-functions/ \n",
        "# оптимизаторы: https://habr.com/ru/company/skillfactory/blog/525214/\n",
        "#               https://ru-keras.com/optimizer/\n",
        "#               https://habr.com/ru/post/318970/\n",
        "# будем реализовывать многослойный перцептрон для бинарной классификации (MLP)\n",
        "\n",
        "\n",
        "def model_SA(train_data):\n",
        "    model = Sequential() #линейный стек слоев \n",
        "    model.add(Dense(units=200,  input_shape=(train_data.shape[1],), activation='relu')) # первый \"обычный\" плотно связанный слой \n",
        "                                                                                 # (в плотно связанных слоях каждый узел в одном слое связан с каждым узлом в следующем слое)\n",
        "                                                                                 # input_shape - размер входных данных (применяется только для первого слоя)\n",
        "                                                                                 # activation - функция активации. relu: A(x) = max(0,x)\n",
        "                                                                                 # такая функция является хорошим аппроксиматором, так как любая функция может быть аппроксимирована комбинацией ReLu\n",
        "                                                                                 # https://tldrify.com/130x\n",
        "    model.add(Dropout(rate=0.5))                                                 # Dropout защищает от переобучения, rate- доля блоков для исключения                       \n",
        "    model.add(Dense(units=40, activation='relu'))\n",
        "    model.add(Dropout(rate=0.5))\n",
        "    model.add(Dense(units=1, activation='sigmoid'))                              # используем сигмоиду, т.к.  значение функции имеет тенденцию прижиматься к одному из краев кривой.\n",
        "                                                                                 # Такое поведение позволяет находить четкие границы при предсказании и хорошо показывает себя \n",
        "                                                                                 # в задачах классификации\n",
        "    model.compile(optimizer=Adam(0.001),                                         # компиляция модели. Выбран оптимизатор adam  \n",
        "                  loss='binary_crossentropy',                                    # функция ошибки, которую модель будет минимизировать, выбрана logloss, т.к.\n",
        "                                                                                 # для задачи бинарной классификации, в которой алгоритм должен выдать вероятность принадлежности классу 1,\n",
        "                                                                                 # она логична ровно настолько, насколько логична MSE в задаче линейной регрессии\n",
        "                  metrics=[precision, recall, f1])                               # метрика для оценки\n",
        "    return model\n",
        "\n",
        "\n",
        "model=model_SA(x_train)\n",
        "\n",
        "\n",
        "# наименьшая ошибка получилась на 29 эпохе, приводить весь лог здесь не будем. сперва эпох было 100\n",
        "history_training=model.fit(x_train,y_train,batch_size=100000, epochs=29, shuffle=True, validation_data=(x_test, y_test), verbose=1)"
      ],
      "execution_count": 17,
      "outputs": [
        {
          "output_type": "stream",
          "text": [
            "Epoch 1/29\n",
            "2/2 [==============================] - 12s 5s/step - loss: 0.6930 - precision: 0.5712 - recall: 0.3983 - f1: 0.4404 - val_loss: 0.6913 - val_precision: 0.7790 - val_recall: 0.3622 - val_f1: 0.4945\n",
            "Epoch 2/29\n",
            "2/2 [==============================] - 9s 4s/step - loss: 0.6905 - precision: 0.7649 - recall: 0.4320 - f1: 0.5499 - val_loss: 0.6870 - val_precision: 0.7492 - val_recall: 0.5742 - val_f1: 0.6501\n",
            "Epoch 3/29\n",
            "2/2 [==============================] - 9s 4s/step - loss: 0.6852 - precision: 0.7632 - recall: 0.6116 - f1: 0.6790 - val_loss: 0.6818 - val_precision: 0.7530 - val_recall: 0.6142 - val_f1: 0.6766\n",
            "Epoch 4/29\n",
            "2/2 [==============================] - 9s 4s/step - loss: 0.6782 - precision: 0.7799 - recall: 0.6627 - f1: 0.7165 - val_loss: 0.6754 - val_precision: 0.7571 - val_recall: 0.6313 - val_f1: 0.6885\n",
            "Epoch 5/29\n",
            "2/2 [==============================] - 9s 4s/step - loss: 0.6692 - precision: 0.7971 - recall: 0.6965 - f1: 0.7434 - val_loss: 0.6680 - val_precision: 0.7567 - val_recall: 0.6471 - val_f1: 0.6976\n",
            "Epoch 6/29\n",
            "2/2 [==============================] - 9s 4s/step - loss: 0.6583 - precision: 0.8112 - recall: 0.7258 - f1: 0.7661 - val_loss: 0.6595 - val_precision: 0.7589 - val_recall: 0.6567 - val_f1: 0.7041\n",
            "Epoch 7/29\n",
            "2/2 [==============================] - 9s 4s/step - loss: 0.6457 - precision: 0.8233 - recall: 0.7449 - f1: 0.7822 - val_loss: 0.6500 - val_precision: 0.7611 - val_recall: 0.6648 - val_f1: 0.7097\n",
            "Epoch 8/29\n",
            "2/2 [==============================] - 9s 4s/step - loss: 0.6309 - precision: 0.8334 - recall: 0.7629 - f1: 0.7966 - val_loss: 0.6395 - val_precision: 0.7609 - val_recall: 0.6761 - val_f1: 0.7160\n",
            "Epoch 9/29\n",
            "2/2 [==============================] - 9s 4s/step - loss: 0.6137 - precision: 0.8419 - recall: 0.7821 - f1: 0.8109 - val_loss: 0.6280 - val_precision: 0.7611 - val_recall: 0.6872 - val_f1: 0.7223\n",
            "Epoch 10/29\n",
            "2/2 [==============================] - 9s 4s/step - loss: 0.5949 - precision: 0.8518 - recall: 0.7984 - f1: 0.8242 - val_loss: 0.6158 - val_precision: 0.7617 - val_recall: 0.6979 - val_f1: 0.7284\n",
            "Epoch 11/29\n",
            "2/2 [==============================] - 9s 4s/step - loss: 0.5740 - precision: 0.8593 - recall: 0.8145 - f1: 0.8363 - val_loss: 0.6028 - val_precision: 0.7619 - val_recall: 0.7067 - val_f1: 0.7333\n",
            "Epoch 12/29\n",
            "2/2 [==============================] - 9s 4s/step - loss: 0.5507 - precision: 0.8681 - recall: 0.8291 - f1: 0.8482 - val_loss: 0.5896 - val_precision: 0.7647 - val_recall: 0.7105 - val_f1: 0.7366\n",
            "Epoch 13/29\n",
            "2/2 [==============================] - 9s 4s/step - loss: 0.5261 - precision: 0.8783 - recall: 0.8417 - f1: 0.8596 - val_loss: 0.5763 - val_precision: 0.7662 - val_recall: 0.7164 - val_f1: 0.7405\n",
            "Epoch 14/29\n",
            "2/2 [==============================] - 9s 4s/step - loss: 0.5006 - precision: 0.8845 - recall: 0.8555 - f1: 0.8698 - val_loss: 0.5631 - val_precision: 0.7676 - val_recall: 0.7245 - val_f1: 0.7454\n",
            "Epoch 15/29\n",
            "2/2 [==============================] - 9s 4s/step - loss: 0.4729 - precision: 0.8955 - recall: 0.8693 - f1: 0.8822 - val_loss: 0.5503 - val_precision: 0.7686 - val_recall: 0.7326 - val_f1: 0.7502\n",
            "Epoch 16/29\n",
            "2/2 [==============================] - 9s 4s/step - loss: 0.4442 - precision: 0.9047 - recall: 0.8839 - f1: 0.8942 - val_loss: 0.5380 - val_precision: 0.7706 - val_recall: 0.7391 - val_f1: 0.7545\n",
            "Epoch 17/29\n",
            "2/2 [==============================] - 9s 4s/step - loss: 0.4153 - precision: 0.9138 - recall: 0.8948 - f1: 0.9042 - val_loss: 0.5264 - val_precision: 0.7723 - val_recall: 0.7441 - val_f1: 0.7579\n",
            "Epoch 18/29\n",
            "2/2 [==============================] - 8s 4s/step - loss: 0.3858 - precision: 0.9235 - recall: 0.9084 - f1: 0.9159 - val_loss: 0.5156 - val_precision: 0.7737 - val_recall: 0.7491 - val_f1: 0.7612\n",
            "Epoch 19/29\n",
            "2/2 [==============================] - 9s 4s/step - loss: 0.3565 - precision: 0.9307 - recall: 0.9181 - f1: 0.9244 - val_loss: 0.5057 - val_precision: 0.7749 - val_recall: 0.7529 - val_f1: 0.7637\n",
            "Epoch 20/29\n",
            "2/2 [==============================] - 8s 4s/step - loss: 0.3271 - precision: 0.9397 - recall: 0.9296 - f1: 0.9346 - val_loss: 0.4969 - val_precision: 0.7757 - val_recall: 0.7583 - val_f1: 0.7669\n",
            "Epoch 21/29\n",
            "2/2 [==============================] - 9s 4s/step - loss: 0.2989 - precision: 0.9493 - recall: 0.9388 - f1: 0.9440 - val_loss: 0.4892 - val_precision: 0.7775 - val_recall: 0.7597 - val_f1: 0.7685\n",
            "Epoch 22/29\n",
            "2/2 [==============================] - 9s 4s/step - loss: 0.2717 - precision: 0.9562 - recall: 0.9473 - f1: 0.9517 - val_loss: 0.4824 - val_precision: 0.7779 - val_recall: 0.7642 - val_f1: 0.7710\n",
            "Epoch 23/29\n",
            "2/2 [==============================] - 8s 4s/step - loss: 0.2457 - precision: 0.9628 - recall: 0.9550 - f1: 0.9589 - val_loss: 0.4768 - val_precision: 0.7786 - val_recall: 0.7661 - val_f1: 0.7723\n",
            "Epoch 24/29\n",
            "2/2 [==============================] - 9s 4s/step - loss: 0.2206 - precision: 0.9687 - recall: 0.9633 - f1: 0.9660 - val_loss: 0.4723 - val_precision: 0.7811 - val_recall: 0.7653 - val_f1: 0.7731\n",
            "Epoch 25/29\n",
            "2/2 [==============================] - 9s 4s/step - loss: 0.1974 - precision: 0.9755 - recall: 0.9690 - f1: 0.9722 - val_loss: 0.4685 - val_precision: 0.7804 - val_recall: 0.7707 - val_f1: 0.7755\n",
            "Epoch 26/29\n",
            "2/2 [==============================] - 9s 4s/step - loss: 0.1761 - precision: 0.9790 - recall: 0.9751 - f1: 0.9770 - val_loss: 0.4658 - val_precision: 0.7806 - val_recall: 0.7720 - val_f1: 0.7763\n",
            "Epoch 27/29\n",
            "2/2 [==============================] - 20s 13s/step - loss: 0.1554 - precision: 0.9833 - recall: 0.9801 - f1: 0.9817 - val_loss: 0.4641 - val_precision: 0.7815 - val_recall: 0.7707 - val_f1: 0.7761\n",
            "Epoch 28/29\n",
            "2/2 [==============================] - 9s 4s/step - loss: 0.1382 - precision: 0.9869 - recall: 0.9833 - f1: 0.9851 - val_loss: 0.4631 - val_precision: 0.7815 - val_recall: 0.7707 - val_f1: 0.7760\n",
            "Epoch 29/29\n",
            "2/2 [==============================] - 9s 4s/step - loss: 0.1222 - precision: 0.9896 - recall: 0.9862 - f1: 0.9879 - val_loss: 0.4626 - val_precision: 0.7807 - val_recall: 0.7743 - val_f1: 0.7775\n"
          ],
          "name": "stdout"
        }
      ]
    },
    {
      "cell_type": "code",
      "metadata": {
        "id": "8wuh6zrr03iZ",
        "colab": {
          "base_uri": "https://localhost:8080/",
          "height": 868
        },
        "outputId": "63c4b6e0-2728-48e7-b7f2-c10ab1bc6f8b"
      },
      "source": [
        "# строим графики\n",
        "fig = plt.figure(figsize=(30, 18))\n",
        "\n",
        "sp1= fig.add_subplot(221)\n",
        "sp2= fig.add_subplot(222)\n",
        "sp3= fig.add_subplot(223)\n",
        "sp4 = fig.add_subplot(224)\n",
        "\n",
        "x = range(29)\n",
        "\n",
        "sp1.plot(x, history_training.history['f1'], 'b-', label='f1')\n",
        "sp1.plot(x, history_training.history['val_f1'], 'r-', label='Validation f1')\n",
        "sp1.legend(loc='lower right')\n",
        "\n",
        "sp2.plot(x, history_training.history['precision'], 'b-', label='precision')\n",
        "sp2.plot(x, history_training.history['val_precision'], 'r-', label='Validation precision')\n",
        "sp2.legend(loc='lower right')\n",
        "\n",
        "sp3.plot(x, history_training.history['recall'], 'b-', label='recall')\n",
        "sp3.plot(x, history_training.history['val_recall'], 'r-', label='Validation recall')\n",
        "sp3.legend(loc='lower right')\n",
        "\n",
        "sp4.plot(x, history_training.history['loss'], 'b-', label='Losses')\n",
        "sp4.plot(x, history_training.history['val_loss'], 'r-', label='Validation losses')\n",
        "sp4.legend(loc='upper right')"
      ],
      "execution_count": 19,
      "outputs": [
        {
          "output_type": "execute_result",
          "data": {
            "text/plain": [
              "<matplotlib.legend.Legend at 0x7f908ba4b550>"
            ]
          },
          "metadata": {
            "tags": []
          },
          "execution_count": 19
        },
        {
          "output_type": "display_data",
          "data": {
            "image/png": "[encoded data removed]",
            "text/plain": [
              "<Figure size 2160x1296 with 4 Axes>"
            ]
          },
          "metadata": {
            "tags": [],
            "needs_background": "light"
          }
        }
      ]
    },
    {
      "cell_type": "code",
      "metadata": {
        "id": "i79oT5hiL52z",
        "colab": {
          "base_uri": "https://localhost:8080/"
        },
        "outputId": "2082cf8b-1b84-4e21-c2e9-8eafa777de94"
      },
      "source": [
        "#сравниваем с хабром (средняя точность по всем метрикам 0.0.78142)\n",
        "pred = np.round(model.predict(x_test))\n",
        "print(classification_report(y_test, pred, digits=5))"
      ],
      "execution_count": 20,
      "outputs": [
        {
          "output_type": "stream",
          "text": [
            "              precision    recall  f1-score   support\n",
            "\n",
            "         0.0    0.77330   0.77970   0.77649     27803\n",
            "         1.0    0.78069   0.77432   0.77749     28159\n",
            "\n",
            "    accuracy                        0.77699     55962\n",
            "   macro avg    0.77700   0.77701   0.77699     55962\n",
            "weighted avg    0.77702   0.77699   0.77699     55962\n",
            "\n"
          ],
          "name": "stdout"
        }
      ]
    },
    {
      "cell_type": "code",
      "metadata": {
        "id": "InVMHyRYpHh7"
      },
      "source": [
        "# видим, что MLP немного уступает сверточной сети. возможно стоит оптимизировать обработку для того, чтобы система потребляла меньше ресурсов и ,соответственно,\n",
        "# получить возможность менять число слоёв, batch_size, экспериментировать с оптимизатором (хотя для меня адаптивная оценка момента является наилучшей) и менять число входных юнитов.\n",
        "# оптимизировать можно, например, поменяв токенизатор на встроенный в keras tokenizer\n",
        "\n",
        "# сохраняем\n",
        "js_model=model.to_json()\n",
        "with open (\"best_mlp.json\",\"w\") as js:\n",
        "  js.write(js_model)\n",
        "model.save_weights(\"best_mlp.h5\")"
      ],
      "execution_count": 21,
      "outputs": []
    },
    {
      "cell_type": "code",
      "metadata": {
        "colab": {
          "base_uri": "https://localhost:8080/"
        },
        "id": "WRVbVBsLqDXd",
        "outputId": "a58ae571-31d5-4670-de68-33150de6f1f8"
      },
      "source": [
        "def go_twit(text, model=model, vectorizer=vectorizer):\n",
        "  result=model.predict(normalize(vectorizer.transform(text)))[0][0]\n",
        "  if result<=0.25:\n",
        "    print('Отзыв плохой')\n",
        "  elif result>0.25 and result<=0.4:\n",
        "    print('Отзыв возможно плохой')\n",
        "  elif result>0.4 and result<=0.6:\n",
        "    print('Отзыв нейтрален')\n",
        "  elif result>0.6 and result<=0.75:\n",
        "    print('Отзыв возможно хороший')\n",
        "  else:\n",
        "    print('Отзыв хороший')\n",
        "\n",
        "   \n",
        "go_twit([\"mlp не справился\"])"
      ],
      "execution_count": 55,
      "outputs": [
        {
          "output_type": "stream",
          "text": [
            "Отзыв плохой\n"
          ],
          "name": "stdout"
        }
      ]
    },
    {
      "cell_type": "code",
      "metadata": {
        "colab": {
          "base_uri": "https://localhost:8080/"
        },
        "id": "aXOUEQiCrTLR",
        "outputId": "80e31177-cc0c-4cd5-e584-b3dafcc8c4c7"
      },
      "source": [
        "go_twit([\"mlp надо исправить\"])"
      ],
      "execution_count": 60,
      "outputs": [
        {
          "output_type": "stream",
          "text": [
            "Отзыв возможно плохой\n"
          ],
          "name": "stdout"
        }
      ]
    },
    {
      "cell_type": "code",
      "metadata": {
        "colab": {
          "base_uri": "https://localhost:8080/"
        },
        "id": "YnX4EXQxrWS5",
        "outputId": "2e4d2120-db0a-4edc-9469-a06db3eccbad"
      },
      "source": [
        "go_twit([\"ну и ладно\"])"
      ],
      "execution_count": 58,
      "outputs": [
        {
          "output_type": "stream",
          "text": [
            "Отзыв нейтрален\n"
          ],
          "name": "stdout"
        }
      ]
    },
    {
      "cell_type": "code",
      "metadata": {
        "colab": {
          "base_uri": "https://localhost:8080/"
        },
        "id": "kF8lVK4DvZJl",
        "outputId": "7926e33b-5c80-49fd-d45a-e339a21f4492"
      },
      "source": [
        "go_twit([\"mlp хороший\"])"
      ],
      "execution_count": 64,
      "outputs": [
        {
          "output_type": "stream",
          "text": [
            "Отзыв хороший\n"
          ],
          "name": "stdout"
        }
      ]
    },
    {
      "cell_type": "code",
      "metadata": {
        "colab": {
          "base_uri": "https://localhost:8080/"
        },
        "id": "5ccIXEibvcqQ",
        "outputId": "a89a17b0-f7d3-455d-953c-175f62eb0a82"
      },
      "source": [
        "go_twit([\"mlp нормальный\"])"
      ],
      "execution_count": 65,
      "outputs": [
        {
          "output_type": "stream",
          "text": [
            "Отзыв нейтрален\n"
          ],
          "name": "stdout"
        }
      ]
    },
    {
      "cell_type": "code",
      "metadata": {
        "colab": {
          "base_uri": "https://localhost:8080/"
        },
        "id": "PEpUWEbBv4X1",
        "outputId": "2dbf72d9-859f-4f09-a297-54a9cdbf6fdb"
      },
      "source": [
        "go_twit([\"такой себе\"])"
      ],
      "execution_count": 69,
      "outputs": [
        {
          "output_type": "stream",
          "text": [
            "Отзыв нейтрален\n"
          ],
          "name": "stdout"
        }
      ]
    },
    {
      "cell_type": "code",
      "metadata": {
        "id": "y2ozLMVCv-CP"
      },
      "source": [
        ""
      ],
      "execution_count": null,
      "outputs": []
    }
  ]
}