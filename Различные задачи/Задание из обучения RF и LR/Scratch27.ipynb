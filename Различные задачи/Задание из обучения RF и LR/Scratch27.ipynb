{
 "cells": [
  {
   "cell_type": "markdown",
   "metadata": {},
   "source": [
    "##### Это финальное задание по курсу «Обучение на размеченных данных».\n",
    "\n",
    "В нем вы сравните логистическую регрессию и случайный лес на разных наборах признаков. В качестве данных будет использован Adult Data Set из репозитория UCI. В нем нужно предсказать, получает ли человек больше 50 000$ в год, или нет, по ряду признаков, таких как пол, образование, раса и др. Подробное описание можно найти по ссылке: https://archive.ics.uci.edu/ml/datasets/Adult."
   ]
  },
  {
   "cell_type": "code",
   "execution_count": 107,
   "metadata": {},
   "outputs": [],
   "source": [
    "import numpy as np\n",
    "import pandas as pd"
   ]
  },
  {
   "cell_type": "markdown",
   "metadata": {},
   "source": [
    "### Загрузка данных"
   ]
  },
  {
   "cell_type": "markdown",
   "metadata": {},
   "source": [
    "В ходе задания будем использовать __train_data.csv__ для обучения моделей, на нем же и будем производить кросс-валидацию. В качестве отложенной выборки будем использовать __test_data.csv__"
   ]
  },
  {
   "cell_type": "code",
   "execution_count": 108,
   "metadata": {},
   "outputs": [],
   "source": [
    "column_names = [\"age\", \"workclass\", \"fnlwgt\", \"education\", \"education-num\", \"marital-status\",\n",
    "                \"occupation\", \"relationship\", \"race\", \"sex\", \"capital-gain\", \"capital-loss\",\n",
    "                \"hours-per-week\", \"native-country\", \"class\"]"
   ]
  },
  {
   "cell_type": "code",
   "execution_count": 109,
   "metadata": {},
   "outputs": [],
   "source": [
    "train = pd.read_csv(\"train_data.csv\", sep=\", \", header=None, engine=\"python\", names=column_names)"
   ]
  },
  {
   "cell_type": "code",
   "execution_count": 110,
   "metadata": {},
   "outputs": [],
   "source": [
    "test = pd.read_csv(\"test_data.csv\", sep=\", \", header=None, engine=\"python\", names=column_names)"
   ]
  },
  {
   "cell_type": "markdown",
   "metadata": {},
   "source": [
    "### 1. Пропущенные значения "
   ]
  },
  {
   "cell_type": "markdown",
   "metadata": {},
   "source": [
    "В обучающей выборке порядка 7% строк имеют пропущенные значения (вместо значения поля указан вопросительный знак __'?'__). В каких признаках в обучающей и тестовой выборке имеются пропущенные значения? Так как они все пропущены в категориальных признаках, то можно пока их ни на что не заменять, а просто считать еще одной категорией."
   ]
  },
  {
   "cell_type": "code",
   "execution_count": 111,
   "metadata": {},
   "outputs": [
    {
     "name": "stdout",
     "output_type": "stream",
     "text": [
      "В этих столбцах тестовой выборки есть пропущенные значения:\n",
      "['workclass', 'occupation', 'native-country']\n"
     ]
    }
   ],
   "source": [
    "black_list_test=[]\n",
    "lis=[]\n",
    "for col in test.columns:\n",
    "    b=0\n",
    "    if test[col].dtypes!='int64':\n",
    "        lis=test[col].str.find('?').tolist()\n",
    "        for i in range(len(lis)):\n",
    "            if lis[i]==0:\n",
    "                b=1\n",
    "        if b==1:\n",
    "            black_list_test.append(col)\n",
    "print('В этих столбцах тестовой выборки есть пропущенные значения:')\n",
    "print(black_list_test)"
   ]
  },
  {
   "cell_type": "code",
   "execution_count": 112,
   "metadata": {},
   "outputs": [
    {
     "name": "stdout",
     "output_type": "stream",
     "text": [
      "В этих столбцах обучающей выборки есть пропущенные значения:\n",
      "['workclass', 'occupation', 'native-country']\n"
     ]
    }
   ],
   "source": [
    "black_list_train=[]\n",
    "lis=[]\n",
    "for col in train.columns:\n",
    "    b=0\n",
    "    if train[col].dtypes!='int64':\n",
    "        lis=train[col].str.find('?').tolist()\n",
    "        for i in range(len(lis)):\n",
    "            if lis[i]==0:\n",
    "                b=1\n",
    "        if b==1:\n",
    "            black_list_train.append(col)\n",
    "print('В этих столбцах обучающей выборки есть пропущенные значения:')\n",
    "print(black_list_train)"
   ]
  },
  {
   "cell_type": "markdown",
   "metadata": {},
   "source": [
    "### 2. Обучение на вещественных признаках"
   ]
  },
  {
   "cell_type": "markdown",
   "metadata": {},
   "source": [
    "В этом разделе обучите модели только на вещественных признаках (\"continuous\" в описании данных). Обучите логистическую регрессию (linear_model.LogisticRegression) и случайный лес (ensemble.RandomForestClassifier) из sklearn. В первом случае подберите оптимальные параметры $penalty$ и $C$ на отрезке $[10^{-6}, 10^{6}]$ (по степеням $10$ с шагом $1$, начиная с $-6$), а во втором при фиксированном числе деревьев в 50 подберите $max\\_depth$ и $min\\_samples\\_split$ из отрезка $[2, 14]$ с шагом в 2 и множества $\\{1, 2, 4, 8\\}$ соответственно. За целевую метрику качества возьмите AUC-ROC. В качестве схемы валидации используйте стратифицированную кросс-валидацию по 5-ти фолдам. Какие параметры оказались оптимальными?\n",
    "\n",
    "Учтите, что целевая переменная в датасете является строкой. Поэтому для начала ее нужно перевести в бинарную величину. Также не забудьте отмасштабировать данные с помощью StandartScaler'а из модуля preprocessing."
   ]
  },
  {
   "cell_type": "code",
   "execution_count": 200,
   "metadata": {},
   "outputs": [],
   "source": [
    "y_train=train['class']\n",
    "X_train=train.drop(['class'], axis=1)\n",
    "y_test=test['class']\n",
    "X_test=test.drop(['class'], axis=1)\n",
    "\n",
    "numeric_cols = ['age','fnlwgt','education-num','capital-gain','capital-loss','hours-per-week']\n",
    "categorical_cols = list(set(column_names) - set(numeric_cols))\n",
    "categorical_cols.remove('class')\n",
    "\n",
    "y1=y_train.replace('<=50K',1)\n",
    "y_train_bin=y1.replace('>50K',0)\n",
    "y2=y_test.replace('<=50K',1)\n",
    "y_test_bin=y2.replace('>50K',0)\n",
    "\n",
    "from sklearn.preprocessing import StandardScaler\n",
    "scl=StandardScaler()\n",
    "X_train_num_scaled=scl.fit_transform(X_train[numeric_cols])\n",
    "X_test_num_scaled=scl.transform(X_test[numeric_cols])"
   ]
  },
  {
   "cell_type": "code",
   "execution_count": 201,
   "metadata": {},
   "outputs": [],
   "source": [
    "from sklearn.linear_model import LogisticRegression\n",
    "from sklearn.model_selection import GridSearchCV\n",
    "from sklearn.metrics import roc_auc_score\n",
    "from sklearn import ensemble\n",
    "from sklearn import metrics\n",
    "param_grid={'C': [10**(-6),10**(-5),10**(-4),10**(-3),10**(-2),10**(-1),10**0,10**1,10**2,10**3,10**4,10**5,10**6],'penalty':['l1', 'l2']}\n",
    "optimizer = GridSearchCV(LogisticRegression(solver='liblinear'),param_grid,cv=5, scoring='roc_auc')\n",
    "param_grid_rf = {'max_depth':[2,4,6,8,10,12,14],'min_samples_split':[2,4,8]}\n",
    "optimizer_rf = GridSearchCV(ensemble.RandomForestClassifier(n_estimators = 50),param_grid_rf,cv=5, scoring='roc_auc')"
   ]
  },
  {
   "cell_type": "code",
   "execution_count": 202,
   "metadata": {},
   "outputs": [
    {
     "name": "stdout",
     "output_type": "stream",
     "text": [
      "Лучшие параметры для модели LogisticRegression: {'C': 0.1, 'penalty': 'l2'}\n",
      "Лучшие параметры для ансамбля RandomForestClassifier: {'max_depth': 12, 'min_samples_split': 2}\n"
     ]
    }
   ],
   "source": [
    "optimizer.fit(X_train_num_scaled, y_train_bin)\n",
    "optimizer_rf.fit(X_train_num_scaled, y_train_bin)\n",
    "print ('Лучшие параметры для модели LogisticRegression: {}'.format(optimizer.best_params_))\n",
    "print ('Лучшие параметры для ансамбля RandomForestClassifier: {}'.format(optimizer_rf.best_params_))"
   ]
  },
  {
   "cell_type": "markdown",
   "metadata": {},
   "source": [
    "Посчитайте accuracy, precision, recall, f1-score и AUC-ROC на отложенной выборке для оптимальных алгоритмов. Какие они получились? Какой алгоритм лучше?"
   ]
  },
  {
   "cell_type": "code",
   "execution_count": 203,
   "metadata": {},
   "outputs": [
    {
     "name": "stdout",
     "output_type": "stream",
     "text": [
      "Доля верных ответов согласно метрике AUC ROC для модели LogisticRegression: 0.8255017510712491 \n",
      "Доля верных ответов согласно метрике AUC ROC для ансамбля RandomForestClassifier: 0.8608481733720496 \n",
      "Доля верных ответов согласно метрике precision для модели LogisticRegression: 0.83241330502477 \n",
      "Доля верных ответов согласно метрике precision для ансамбля RandomForestClassifier: 0.8482714468629962 \n",
      "Доля верных ответов согласно метрике recall для модели LogisticRegression: 0.9458785685564938 \n",
      "Доля верных ответов согласно метрике recall для ансамбля RandomForestClassifier: 0.9589867310012062 \n",
      "Доля верных ответов согласно метрике accuracy для модели LogisticRegression: 0.8132178613107303 \n",
      "Доля верных ответов согласно метрике accuracy для ансамбля RandomForestClassifier: 0.8376635341809471 \n",
      "Доля верных ответов согласно метрике f1-score для модели LogisticRegression: 0.8855260681347639 \n",
      "Доля верных ответов согласно метрике f1-score для ансамбля RandomForestClassifier: 0.9002377986637979 \n"
     ]
    }
   ],
   "source": [
    "from sklearn.metrics import precision_score, recall_score, accuracy_score, f1_score \n",
    "print('Доля верных ответов согласно метрике AUC ROC для модели LogisticRegression: {} '.format(roc_auc_score(y_test_bin,optimizer.best_estimator_.predict_proba(X_test_num_scaled)[:, 1])))\n",
    "print('Доля верных ответов согласно метрике AUC ROC для ансамбля RandomForestClassifier: {} '.format(roc_auc_score(y_test_bin,optimizer_rf.best_estimator_.predict_proba(X_test_num_scaled)[:, 1])))\n",
    "print('Доля верных ответов согласно метрике precision для модели LogisticRegression: {} '.format(precision_score(y_test_bin,optimizer.best_estimator_.predict(X_test_num_scaled))))\n",
    "print('Доля верных ответов согласно метрике precision для ансамбля RandomForestClassifier: {} '.format(precision_score(y_test_bin,optimizer_rf.best_estimator_.predict(X_test_num_scaled))))\n",
    "print('Доля верных ответов согласно метрике recall для модели LogisticRegression: {} '.format(recall_score(y_test_bin,optimizer.best_estimator_.predict(X_test_num_scaled))))\n",
    "print('Доля верных ответов согласно метрике recall для ансамбля RandomForestClassifier: {} '.format(recall_score(y_test_bin,optimizer_rf.best_estimator_.predict(X_test_num_scaled))))\n",
    "print('Доля верных ответов согласно метрике accuracy для модели LogisticRegression: {} '.format(accuracy_score(y_test_bin,optimizer.best_estimator_.predict(X_test_num_scaled))))\n",
    "print('Доля верных ответов согласно метрике accuracy для ансамбля RandomForestClassifier: {} '.format(accuracy_score(y_test_bin,optimizer_rf.best_estimator_.predict(X_test_num_scaled))))\n",
    "print('Доля верных ответов согласно метрике f1-score для модели LogisticRegression: {} '.format(f1_score(y_test_bin,optimizer.best_estimator_.predict(X_test_num_scaled))))\n",
    "print('Доля верных ответов согласно метрике f1-score для ансамбля RandomForestClassifier: {} '.format(f1_score(y_test_bin,optimizer_rf.best_estimator_.predict(X_test_num_scaled))))"
   ]
  },
  {
   "cell_type": "markdown",
   "metadata": {
    "collapsed": true
   },
   "source": [
    "Однозначно, алгоритм RandomForestClassifier показал себя лучше, чем LogisticRegression"
   ]
  },
  {
   "cell_type": "markdown",
   "metadata": {},
   "source": [
    "### 3. Категориальные признаки как есть"
   ]
  },
  {
   "cell_type": "markdown",
   "metadata": {},
   "source": [
    "Теперь к вещественным добавьте категориальные признаки, заменив их на числа с помощью LabelEncoder из модуля preprocessing. Переподберите параметры для логистической регрессии и случайного леса аналогично прошлому пункту. Как изменилось качество моделей на тестовой выборке? Как вы можете это объяснить?"
   ]
  },
  {
   "cell_type": "code",
   "execution_count": 219,
   "metadata": {},
   "outputs": [],
   "source": [
    "from sklearn import preprocessing\n",
    "le = preprocessing.LabelEncoder()\n",
    "X_train_cat=X_train[categorical_cols].apply(lambda x: le.fit_transform(x))\n",
    "X_test_cat=X_test[categorical_cols].apply(lambda x: le.fit_transform(x))\n",
    "X_train_full=np.hstack((X_train_num_scaled,X_train_cat))\n",
    "X_test_full=np.hstack((X_test_num_scaled,X_test_cat))"
   ]
  },
  {
   "cell_type": "code",
   "execution_count": 221,
   "metadata": {},
   "outputs": [
    {
     "name": "stdout",
     "output_type": "stream",
     "text": [
      "Лучшие параметры для модели LogisticRegression для всех данных: {'C': 1, 'penalty': 'l2'}\n",
      "Лучшие параметры для ансамбля RandomForestClassifier для всех данных: {'max_depth': 14, 'min_samples_split': 4}\n"
     ]
    }
   ],
   "source": [
    "optimizer.fit(X_train_full, y_train_bin)\n",
    "optimizer_rf.fit(X_train_full, y_train_bin)\n",
    "print ('Лучшие параметры для модели LogisticRegression для всех данных: {}'.format(optimizer.best_params_))\n",
    "print ('Лучшие параметры для ансамбля RandomForestClassifier для всех данных: {}'.format(optimizer_rf.best_params_))"
   ]
  },
  {
   "cell_type": "code",
   "execution_count": 223,
   "metadata": {},
   "outputs": [
    {
     "name": "stdout",
     "output_type": "stream",
     "text": [
      "Доля верных ответов согласно метрике AUC ROC для модели LogisticRegression: 0.8509542705793476 \n",
      "Доля верных ответов согласно метрике AUC ROC для ансамбля RandomForestClassifier: 0.915411789772757 \n",
      "Доля верных ответов согласно метрике precision для модели LogisticRegression: 0.8462039045553146 \n",
      "Доля верных ответов согласно метрике precision для ансамбля RandomForestClassifier: 0.8813204869669131 \n",
      "Доля верных ответов согласно метрике recall для модели LogisticRegression: 0.9411338962605549 \n",
      "Доля верных ответов согласно метрике recall для ансамбля RandomForestClassifier: 0.9489344591877764 \n",
      "Доля верных ответов согласно метрике accuracy для модели LogisticRegression: 0.8243965358393219 \n",
      "Доля верных ответов согласно метрике accuracy для ансамбля RandomForestClassifier: 0.8633990541121552 \n",
      "Доля верных ответов согласно метрике f1-score для модели LogisticRegression: 0.8911479154768702 \n",
      "Доля верных ответов согласно метрике f1-score для ансамбля RandomForestClassifier: 0.9138785625774473 \n"
     ]
    }
   ],
   "source": [
    "from sklearn.metrics import precision_score, recall_score, accuracy_score, f1_score \n",
    "print('Доля верных ответов согласно метрике AUC ROC для модели LogisticRegression: {} '.format(roc_auc_score(y_test_bin,optimizer.best_estimator_.predict_proba(X_test_full)[:, 1])))\n",
    "print('Доля верных ответов согласно метрике AUC ROC для ансамбля RandomForestClassifier: {} '.format(roc_auc_score(y_test_bin,optimizer_rf.best_estimator_.predict_proba(X_test_full)[:, 1])))\n",
    "print('Доля верных ответов согласно метрике precision для модели LogisticRegression: {} '.format(precision_score(y_test_bin,optimizer.best_estimator_.predict(X_test_full))))\n",
    "print('Доля верных ответов согласно метрике precision для ансамбля RandomForestClassifier: {} '.format(precision_score(y_test_bin,optimizer_rf.best_estimator_.predict(X_test_full))))\n",
    "print('Доля верных ответов согласно метрике recall для модели LogisticRegression: {} '.format(recall_score(y_test_bin,optimizer.best_estimator_.predict(X_test_full))))\n",
    "print('Доля верных ответов согласно метрике recall для ансамбля RandomForestClassifier: {} '.format(recall_score(y_test_bin,optimizer_rf.best_estimator_.predict(X_test_full))))\n",
    "print('Доля верных ответов согласно метрике accuracy для модели LogisticRegression: {} '.format(accuracy_score(y_test_bin,optimizer.best_estimator_.predict(X_test_full))))\n",
    "print('Доля верных ответов согласно метрике accuracy для ансамбля RandomForestClassifier: {} '.format(accuracy_score(y_test_bin,optimizer_rf.best_estimator_.predict(X_test_full))))\n",
    "print('Доля верных ответов согласно метрике f1-score для модели LogisticRegression: {} '.format(f1_score(y_test_bin,optimizer.best_estimator_.predict(X_test_full))))\n",
    "print('Доля верных ответов согласно метрике f1-score для ансамбля RandomForestClassifier: {} '.format(f1_score(y_test_bin,optimizer_rf.best_estimator_.predict(X_test_full))))"
   ]
  },
  {
   "cell_type": "markdown",
   "metadata": {
    "collapsed": true
   },
   "source": [
    "Качество моделей улучшилось благодаря добавлению категориальных признаков. Скорее всего так произошло потому, что среди категориальных признаков были те, которые лучше давали характеристику классу"
   ]
  },
  {
   "cell_type": "markdown",
   "metadata": {},
   "source": [
    "### 4. Бинарное кодирование категориальных признаков"
   ]
  },
  {
   "cell_type": "markdown",
   "metadata": {},
   "source": [
    "А теперь замените категориальные признаки из прошлого пункта на бинарно закодированные. Опять переподберите параметры для моделей и проверьте качество на тестовой выборке. Как изменилось качество относительно предыдущего пункта? Как вы можете это объяснить?"
   ]
  },
  {
   "cell_type": "code",
   "execution_count": 282,
   "metadata": {},
   "outputs": [],
   "source": [
    "from sklearn.feature_extraction import DictVectorizer as DV\n",
    "encoder = DV(sparse = False)\n",
    "X_train_cat_oh = encoder.fit_transform(X_train[categorical_cols].T.to_dict().values())\n",
    "X_test_cat_oh = encoder.transform(X_test[categorical_cols].T.to_dict().values())"
   ]
  },
  {
   "cell_type": "code",
   "execution_count": 283,
   "metadata": {},
   "outputs": [
    {
     "name": "stdout",
     "output_type": "stream",
     "text": [
      "Лучшие параметры для модели LogisticRegression для всех данных: {'C': 1, 'penalty': 'l2'}\n",
      "Лучшие параметры для ансамбля RandomForestClassifier для всех данных: {'max_depth': 14, 'min_samples_split': 8}\n"
     ]
    }
   ],
   "source": [
    "optimizer.fit(X_train_cat_oh, y_train_bin)\n",
    "optimizer_rf.fit(X_train_cat_oh, y_train_bin)\n",
    "print ('Лучшие параметры для модели LogisticRegression для всех данных: {}'.format(optimizer.best_params_))\n",
    "print ('Лучшие параметры для ансамбля RandomForestClassifier для всех данных: {}'.format(optimizer_rf.best_params_))"
   ]
  },
  {
   "cell_type": "code",
   "execution_count": 284,
   "metadata": {},
   "outputs": [
    {
     "name": "stdout",
     "output_type": "stream",
     "text": [
      "Доля верных ответов согласно метрике AUC ROC для модели LogisticRegression: 0.8784433918571057 \n",
      "Доля верных ответов согласно метрике AUC ROC для ансамбля RandomForestClassifier: 0.8762816254507839 \n",
      "Доля верных ответов согласно метрике precision для модели LogisticRegression: 0.8664764193451487 \n",
      "Доля верных ответов согласно метрике precision для ансамбля RandomForestClassifier: 0.8585023976392475 \n",
      "Доля верных ответов согласно метрике recall для модели LogisticRegression: 0.9278648974668275 \n",
      "Доля верных ответов согласно метрике recall для ансамбля RandomForestClassifier: 0.935826296743064 \n",
      "Доля верных ответов согласно метрике accuracy для модели LogisticRegression: 0.8356980529451508 \n",
      "Доля верных ответов согласно метрике accuracy для ансамбля RandomForestClassifier: 0.8331797801117867 \n",
      "Доля верных ответов согласно метрике f1-score для модели LogisticRegression: 0.8961205390081938 \n",
      "Доля верных ответов согласно метрике f1-score для ансамбля RandomForestClassifier: 0.8954982685648327 \n"
     ]
    }
   ],
   "source": [
    "from sklearn.metrics import precision_score, recall_score, accuracy_score, f1_score \n",
    "print('Доля верных ответов согласно метрике AUC ROC для модели LogisticRegression: {} '.format(roc_auc_score(y_test_bin,optimizer.best_estimator_.predict_proba(X_test_cat_oh)[:, 1])))\n",
    "print('Доля верных ответов согласно метрике AUC ROC для ансамбля RandomForestClassifier: {} '.format(roc_auc_score(y_test_bin,optimizer_rf.best_estimator_.predict_proba(X_test_cat_oh)[:, 1])))\n",
    "print('Доля верных ответов согласно метрике precision для модели LogisticRegression: {} '.format(precision_score(y_test_bin,optimizer.best_estimator_.predict(X_test_cat_oh))))\n",
    "print('Доля верных ответов согласно метрике precision для ансамбля RandomForestClassifier: {} '.format(precision_score(y_test_bin,optimizer_rf.best_estimator_.predict(X_test_cat_oh))))\n",
    "print('Доля верных ответов согласно метрике recall для модели LogisticRegression: {} '.format(recall_score(y_test_bin,optimizer.best_estimator_.predict(X_test_cat_oh))))\n",
    "print('Доля верных ответов согласно метрике recall для ансамбля RandomForestClassifier: {} '.format(recall_score(y_test_bin,optimizer_rf.best_estimator_.predict(X_test_cat_oh))))\n",
    "print('Доля верных ответов согласно метрике accuracy для модели LogisticRegression: {} '.format(accuracy_score(y_test_bin,optimizer.best_estimator_.predict(X_test_cat_oh))))\n",
    "print('Доля верных ответов согласно метрике accuracy для ансамбля RandomForestClassifier: {} '.format(accuracy_score(y_test_bin,optimizer_rf.best_estimator_.predict(X_test_cat_oh))))\n",
    "print('Доля верных ответов согласно метрике f1-score для модели LogisticRegression: {} '.format(f1_score(y_test_bin,optimizer.best_estimator_.predict(X_test_cat_oh))))\n",
    "print('Доля верных ответов согласно метрике f1-score для ансамбля RandomForestClassifier: {} '.format(f1_score(y_test_bin,optimizer_rf.best_estimator_.predict(X_test_cat_oh))))"
   ]
  },
  {
   "cell_type": "markdown",
   "metadata": {},
   "source": [
    "Как видно, качество логистической регрессии ,по сравнению с прошлым пунктом, заметно улучшилось. Это связано с тем, что LabelEncoder плохо работает с линейными моделями. Метрики близости объектов для LabelEncoder считают преобразованные числа для категориальных признаков весами. Т.е в следствие этого чем признак в таблице дальше от другого признака по порядку, тем больше разница между этими весами, а значит и больше метрика."
   ]
  },
  {
   "cell_type": "code",
   "execution_count": null,
   "metadata": {},
   "outputs": [],
   "source": []
  },
  {
   "cell_type": "code",
   "execution_count": null,
   "metadata": {},
   "outputs": [],
   "source": []
  },
  {
   "cell_type": "code",
   "execution_count": null,
   "metadata": {},
   "outputs": [],
   "source": []
  },
  {
   "cell_type": "code",
   "execution_count": null,
   "metadata": {},
   "outputs": [],
   "source": []
  },
  {
   "cell_type": "code",
   "execution_count": null,
   "metadata": {},
   "outputs": [],
   "source": []
  }
 ],
 "metadata": {
  "anaconda-cloud": {},
  "kernelspec": {
   "display_name": "Python 3",
   "language": "python",
   "name": "python3"
  },
  "language_info": {
   "codemirror_mode": {
    "name": "ipython",
    "version": 3
   },
   "file_extension": ".py",
   "mimetype": "text/x-python",
   "name": "python",
   "nbconvert_exporter": "python",
   "pygments_lexer": "ipython3",
   "version": "3.7.3"
  }
 },
 "nbformat": 4,
 "nbformat_minor": 1
}
